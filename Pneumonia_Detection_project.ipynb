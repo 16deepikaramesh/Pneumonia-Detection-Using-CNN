{
 "cells": [
  {
   "cell_type": "code",
   "execution_count": 2,
   "metadata": {},
   "outputs": [],
   "source": [
    "import tensorflow as tf\n",
    "import numpy as np\n",
    "import os\n",
    "import sys\n",
    "import cv2\n",
    "import matplotlib.pyplot as plt\n",
    "import pickle\n",
    "import random\n",
    "import pandas as pd\n",
    "\n",
    "import tensorflow as tf\n",
    "from tensorflow.keras import Sequential\n",
    "from tensorflow.keras.layers import Dense,Dropout,Activation, Flatten,Conv2D,MaxPooling2D\n",
    "import pickle\n",
    "\n",
    "from sklearn.model_selection import train_test_split\n",
    "\n",
    "import matplotlib.pyplot as plt\n",
    "%matplotlib inline\n"
   ]
  },
  {
   "cell_type": "code",
   "execution_count": 2,
   "metadata": {},
   "outputs": [],
   "source": [
    "class MasterImage(object):\n",
    "\n",
    "    def __init__(self,PATH='', IMAGE_SIZE = 50, CATEGORIES=[]):\n",
    "        self.PATH = PATH\n",
    "        self.IMAGE_SIZE = IMAGE_SIZE\n",
    "        self.CATEGORIES = CATEGORIES\n",
    "        self.image_data = []\n",
    "        self.x_data = []\n",
    "        self.y_data = []\n",
    "\n",
    "    def Process_Image(self):\n",
    "\n",
    "        \"\"\"\n",
    "        Return Numpy array of image\n",
    "        :return: X_Data, Y_Data\n",
    "        \"\"\"\n",
    "\n",
    "        for categories in self.CATEGORIES:                                                  # Iterate over categories\n",
    "\n",
    "            train_folder_path = os.path.join(self.PATH, categories)                         # Folder Path\n",
    "            class_index = self.CATEGORIES.index(categories)                             # this will get index for classification\n",
    "\n",
    "            for img in os.listdir(train_folder_path):                                       # This will iterate in the Folder\n",
    "                new_path = os.path.join(train_folder_path, img)                             # image Path\n",
    "\n",
    "                try:        # if any image is corrupted\n",
    "                    image_data_temp = cv2.imread(new_path,cv2.IMREAD_GRAYSCALE)                 # Read Image as numbers\n",
    "                    image_temp_resize = cv2.resize(image_data_temp,(self.IMAGE_SIZE,self.IMAGE_SIZE))\n",
    "                    self.image_data.append([image_temp_resize,class_index])\n",
    "                except:\n",
    "                    pass\n",
    "\n",
    "        data = np.asanyarray(self.image_data)\n",
    "\n",
    "        # Iterate over the Data\n",
    "        for x in data:\n",
    "            self.x_data.append(x[0])        # Get the X_Data\n",
    "            self.y_data.append(x[1])        # get the label\n",
    "\n",
    "        X_Data = np.asarray(self.x_data) / (255.0)      # Normalize Data\n",
    "        Y_Data = np.asarray(self.y_data)\n",
    "\n",
    "        return X_Data,Y_Data\n",
    "\n",
    "    def pickle_image(self):\n",
    "\n",
    "        \"\"\"\n",
    "        :return: None Creates a Pickle Object of DataSet\n",
    "        \"\"\"\n",
    "\n",
    "        X_Data,Y_Data = self.Process_Image()\n",
    "\n",
    "        pickle_out = open('X_Data','wb')\n",
    "        pickle.dump(X_Data, pickle_out)\n",
    "        pickle_out.close()\n",
    "\n",
    "        pickle_out = open('Y_Data', 'wb')\n",
    "        pickle.dump(Y_Data, pickle_out)\n",
    "        pickle_out.close()\n",
    "\n",
    "        print(\"Pickled Image Successfully \")\n",
    "\n",
    "        return X_Data,Y_Data\n",
    "\n",
    "    def load_dataset(self):\n",
    "\n",
    "        try:\n",
    "            X_Temp = open('X_Data','rb')\n",
    "            X_Data = pickle.load(X_Temp)\n",
    "\n",
    "            Y_Temp = open('Y_Data','rb')\n",
    "            Y_Data = pickle.load(Y_Temp)\n",
    "\n",
    "            print('Reading Dataset from PIckle Object')\n",
    "\n",
    "            return X_Data,Y_Data\n",
    "\n",
    "        except:\n",
    "            print('Could not Found Pickle File ')\n",
    "            print('Loading File and Dataset  ..........')\n",
    "            X_Data,Y_Data = self.pickle_image()\n",
    "            return X_Data,Y_Data\n"
   ]
  },
  {
   "cell_type": "code",
   "execution_count": 3,
   "metadata": {},
   "outputs": [
    {
     "name": "stdout",
     "output_type": "stream",
     "text": [
      "Reading Dataset from PIckle Object\n",
      "(5216, 80, 80, 1)\n"
     ]
    }
   ],
   "source": [
    "a = MasterImage(PATH='/Users/ELCOT/Desktop/1-Pneumonia Detection Using Chest X-Ray with Deep Learning/Pneumonia/chest_xray/train',\n",
    "                    IMAGE_SIZE=80,\n",
    "                    CATEGORIES=['NORMAL','PNEUMONIA'])\n",
    "\n",
    "X_Data,Y_Data = a.load_dataset()\n",
    "X_Data = X_Data.reshape(-1,80,80,1)\n",
    "print(X_Data.shape)\n"
   ]
  },
  {
   "cell_type": "code",
   "execution_count": 4,
   "metadata": {},
   "outputs": [],
   "source": [
    "X_Train, X_Test, Y_Train, Y_Test = train_test_split(X_Data, Y_Data, test_size=0.3,random_state=101)"
   ]
  },
  {
   "cell_type": "code",
   "execution_count": 5,
   "metadata": {},
   "outputs": [],
   "source": [
    "model = Sequential()\n",
    "model.add(Conv2D(200, (3, 3), input_shape=X_Data.shape[1:]))\n",
    "model.add(Activation('relu'))\n",
    "model.add(MaxPooling2D(pool_size=(2, 2)))\n",
    "model.add(Conv2D(100, (3, 3)))\n",
    "model.add(Activation('relu'))\n",
    "model.add(MaxPooling2D(pool_size=(2, 2)))\n",
    "model.add(Flatten())\n",
    "model.add(Dense(80))\n",
    "model.add(Dense(1))\n",
    "model.add(Activation('sigmoid'))\n",
    "model.compile(loss='binary_crossentropy',\n",
    "              optimizer='adam',\n",
    "              metrics=['accuracy'])\n",
    "#model=model.summary()"
   ]
  },
  {
   "cell_type": "code",
   "execution_count": 6,
   "metadata": {},
   "outputs": [
    {
     "name": "stdout",
     "output_type": "stream",
     "text": [
      "Train on 3651 samples, validate on 1565 samples\n",
      "Epoch 1/5\n",
      "3651/3651 [==============================] - 398s 109ms/sample - loss: 0.3584 - accuracy: 0.8395 - val_loss: 0.1342 - val_accuracy: 0.9585\n",
      "Epoch 2/5\n",
      "3651/3651 [==============================] - 425s 116ms/sample - loss: 0.1451 - accuracy: 0.9439 - val_loss: 0.1526 - val_accuracy: 0.9457\n",
      "Epoch 3/5\n",
      "3651/3651 [==============================] - 456s 125ms/sample - loss: 0.0986 - accuracy: 0.9625 - val_loss: 0.0527 - val_accuracy: 0.9840\n",
      "Epoch 4/5\n",
      "3651/3651 [==============================] - 524s 144ms/sample - loss: 0.0889 - accuracy: 0.9669 - val_loss: 0.1067 - val_accuracy: 0.9604\n",
      "Epoch 5/5\n",
      "3651/3651 [==============================] - 485s 133ms/sample - loss: 0.0735 - accuracy: 0.9723 - val_loss: 0.0674 - val_accuracy: 0.9776\n"
     ]
    }
   ],
   "source": [
    "model.fit(X_Data, Y_Data, batch_size=40, epochs=5, validation_split=0.3)\n",
    "model.save('model.h5')"
   ]
  },
  {
   "cell_type": "code",
   "execution_count": 7,
   "metadata": {},
   "outputs": [
    {
     "name": "stdout",
     "output_type": "stream",
     "text": [
      "1565/1565 [==============================] - 49s 32ms/sample - loss: 0.0549 - accuracy: 0.9796\n"
     ]
    },
    {
     "data": {
      "text/plain": [
       "[0.054907464479005484, 0.9795527]"
      ]
     },
     "execution_count": 7,
     "metadata": {},
     "output_type": "execute_result"
    }
   ],
   "source": [
    "model.evaluate(X_Test,Y_Test,batch_size=40)"
   ]
  },
  {
   "cell_type": "code",
   "execution_count": 1,
   "metadata": {},
   "outputs": [
    {
     "name": "stderr",
     "output_type": "stream",
     "text": [
      "Using TensorFlow backend.\n"
     ]
    },
    {
     "ename": "NameError",
     "evalue": "name 'model' is not defined",
     "output_type": "error",
     "traceback": [
      "\u001b[1;31m---------------------------------------------------------------------------\u001b[0m",
      "\u001b[1;31mNameError\u001b[0m                                 Traceback (most recent call last)",
      "\u001b[1;32m<ipython-input-1-97449904bb7e>\u001b[0m in \u001b[0;36m<module>\u001b[1;34m\u001b[0m\n\u001b[0;32m      1\u001b[0m \u001b[1;32mfrom\u001b[0m \u001b[0mkeras\u001b[0m\u001b[1;33m.\u001b[0m\u001b[0mmodels\u001b[0m \u001b[1;32mimport\u001b[0m \u001b[0mload_model\u001b[0m\u001b[1;33m\u001b[0m\u001b[1;33m\u001b[0m\u001b[0m\n\u001b[1;32m----> 2\u001b[1;33m \u001b[0mmodel\u001b[0m\u001b[1;33m.\u001b[0m\u001b[0msave\u001b[0m\u001b[1;33m(\u001b[0m\u001b[1;34m\"model1.h5\"\u001b[0m\u001b[1;33m)\u001b[0m\u001b[1;33m\u001b[0m\u001b[1;33m\u001b[0m\u001b[0m\n\u001b[0m",
      "\u001b[1;31mNameError\u001b[0m: name 'model' is not defined"
     ]
    }
   ],
   "source": [
    "from keras.models import load_model\n",
    "model.save(\"model1.h5\")"
   ]
  },
  {
   "cell_type": "code",
   "execution_count": null,
   "metadata": {},
   "outputs": [],
   "source": [
    "from keras.models import load_model\n",
    "model.save_weights(\"model1_weights.h5\")"
   ]
  },
  {
   "cell_type": "code",
   "execution_count": 8,
   "metadata": {},
   "outputs": [],
   "source": [
    "def prepare(filepath):\n",
    "    training_date = []\n",
    "    \n",
    "    img_array = cv2.imread(filepath,cv2.IMREAD_GRAYSCALE)\n",
    "    new_array = cv2.resize(img_array,(80,80))\n",
    "    new_image =  new_array.reshape(-1,80,80,1)\n",
    "    return new_image"
   ]
  },
  {
   "cell_type": "code",
   "execution_count": 5,
   "metadata": {},
   "outputs": [],
   "source": [
    "model = tf.keras.models.load_model('model.h5')"
   ]
  },
  {
   "cell_type": "code",
   "execution_count": 3,
   "metadata": {},
   "outputs": [
    {
     "name": "stdout",
     "output_type": "stream",
     "text": [
      "C:/Users/ELCOT/Desktop/1-Pneumonia Detection Using Chest X-Ray with Deep Learning/Pneumonia/chest_xray/val/Normal/NORMAL2-IM-1427-0001.jpeg\n"
     ]
    },
    {
     "data": {
      "text/plain": [
       "<matplotlib.image.AxesImage at 0x23ef728c9b0>"
      ]
     },
     "execution_count": 3,
     "metadata": {},
     "output_type": "execute_result"
    },
    {
     "data": {
      "image/png": "[encoded data removed]",
      "text/plain": [
       "<Figure size 432x288 with 1 Axes>"
      ]
     },
     "metadata": {
      "needs_background": "light"
     },
     "output_type": "display_data"
    }
   ],
   "source": [
    "filepath = 'C:/Users/ELCOT/Desktop/1-Pneumonia Detection Using Chest X-Ray with Deep Learning/Pneumonia/chest_xray/val/Normal/NORMAL2-IM-1427-0001.jpeg'\n",
    "img_array = cv2.imread(filepath)\n",
    "image_array=np.array(img_array)\n",
    "print(image_array)\n",
    "\n",
    "plt.imshow(img_array)"
   ]
  },
  {
   "cell_type": "code",
   "execution_count": 8,
   "metadata": {},
   "outputs": [
    {
     "name": "stdout",
     "output_type": "stream",
     "text": [
      "3 C:/Users/ELCOT/Desktop/1-Pneumonia Detection Using Chest X-Ray with Deep Learning/Pneumonia/chest_xray/val/Normal/NORMAL2-IM-1427-0001.jpeg\n"
     ]
    }
   ],
   "source": [
    "img_array = cv2.imread(filepath)\n",
    "image_array=np.array(img_array).shape[2]\n",
    "print(image_array,filepath)"
   ]
  },
  {
   "cell_type": "code",
   "execution_count": null,
   "metadata": {},
   "outputs": [],
   "source": [
    "import scipy.ndimage\n",
    "height,width,channels = scipy.ndimage.im"
   ]
  },
  {
   "cell_type": "code",
   "execution_count": 11,
   "metadata": {},
   "outputs": [
    {
     "name": "stdout",
     "output_type": "stream",
     "text": [
      "NORMAL\n"
     ]
    }
   ],
   "source": [
    "test = model.predict([prepare(filepath=filepath)])\n",
    "CATEGORIES=['NORMAL','PNEUMONIA']\n",
    "print(CATEGORIES[int(test[0][0])])"
   ]
  },
  {
   "cell_type": "code",
   "execution_count": 6,
   "metadata": {},
   "outputs": [
    {
     "name": "stdout",
     "output_type": "stream",
     "text": [
      "NORMAL\n",
      "NORMAL\n",
      "PNEUMONIA\n",
      "NORMAL\n",
      "PNEUMONIA\n",
      "PNEUMONIA\n",
      "NORMAL\n",
      "PNEUMONIA\n",
      "PNEUMONIA\n",
      "PNEUMONIA\n",
      "PNEUMONIA\n",
      "NORMAL\n",
      "NORMAL\n",
      "NORMAL\n",
      "PNEUMONIA\n",
      "PNEUMONIA\n"
     ]
    }
   ],
   "source": [
    "import tkinter as tk\n",
    "from tkinter.filedialog import askopenfilename\n",
    "import shutil\n",
    "import os\n",
    "import sys\n",
    "from PIL import Image, ImageTk\n",
    "\n",
    "window = tk.Tk()\n",
    "\n",
    "window.title(\"PNEUMONIA DETECTION\")\n",
    "\n",
    "window.geometry(\"500x510\")\n",
    "window.configure(background =\"black\")\n",
    "\n",
    "title = tk.Label(text=\"Click below to choose picture for testing disease....\", background = \"black\", fg=\"white\", font=(\"\", 15))\n",
    "title.grid()\n",
    "def exit():\n",
    "    window1.destroy()\n",
    "\n",
    "def prepare(filepath):\n",
    "    training_date = []\n",
    "    img_array = cv2.imread(filepath,cv2.IMREAD_GRAYSCALE)\n",
    "    new_array = cv2.resize(img_array,(80,80))\n",
    "    new_image =  new_array.reshape(-1,80,80,1)\n",
    "    return new_image\n",
    "\n",
    "def analysis():\n",
    "    test = model.predict([prepare(filepath=filepath)])\n",
    "    CATEGORIES=['NORMAL','PNEUMONIA']\n",
    "    print(CATEGORIES[int(test[0][0])])\n",
    "    if CATEGORIES[int(test[0][0])]==\"NORMAL\":\n",
    "        message = tk.Label(window1,text='Status: '+CATEGORIES[int(test[0][0])], background=\"white\",\n",
    "                           fg=\"black\", font=(\"\", 15))\n",
    "        window1.configure(background=\"white\")\n",
    "\n",
    "    else:\n",
    "        message = tk.Label(window1,text='Status: '+CATEGORIES[int(test[0][0])], background=\"black\",\n",
    "                           fg=\"white\", font=(\"\", 15))   \n",
    "        window1.configure(background=\"black\")\n",
    "\n",
    "    message.grid(column=0, row=3, padx=10, pady=10)\n",
    "    button = tk.Button(window1,text=\"Exit\", command=exit)\n",
    "    button.grid(column=0, row=9, padx=20, pady=20)\n",
    "\n",
    "def openphoto():\n",
    "    global filepath\n",
    "    global window1\n",
    "    window1 = tk.Toplevel(window)\n",
    "\n",
    "    window1.title(\"PNEUMONIA DTECTION\")\n",
    "\n",
    "    window1.geometry(\"500x520\")\n",
    "    window1.configure(background=\"white\")\n",
    "\n",
    "    filepath = askopenfilename(initialdir='C:/Users/ELCOT/Desktop/1-Pneumonia Detection Using Chest X-Ray with Deep Learning/Pneumonia/chest_xray', title='Select image for analysis ',\n",
    "                           filetypes=[('image files', '.jpeg')])\n",
    "    load = Image.open(filepath)\n",
    "    load= load.resize((250,490),Image.ANTIALIAS)\n",
    "    render = ImageTk.PhotoImage(load)\n",
    "    img = tk.Label(window1,image=render, height=\"250\", width=\"490\")\n",
    "    img.image = render\n",
    "    img.place(x=0, y=0)\n",
    "    img.grid(column=0, row=0, padx=5, pady = 5)\n",
    "    button2 = tk.Button(window1,text=\"Analyse Image\", command=analysis)\n",
    "    button2.grid(column=0, row=2, padx=10, pady = 10)\n",
    "    window1.mainloop()\n",
    "button1 = tk.Button(text=\"Get Photo\", command = openphoto)\n",
    "button1.grid(column=0, row=1, padx=10, pady = 10)\n",
    "window.mainloop()\n",
    "\n"
   ]
  }
 ],
 "metadata": {
  "kernelspec": {
   "display_name": "Python 3",
   "language": "python",
   "name": "python3"
  },
  "language_info": {
   "codemirror_mode": {
    "name": "ipython",
    "version": 3
   },
   "file_extension": ".py",
   "mimetype": "text/x-python",
   "name": "python",
   "nbconvert_exporter": "python",
   "pygments_lexer": "ipython3",
   "version": "3.6.8"
  }
 },
 "nbformat": 4,
 "nbformat_minor": 4
}
